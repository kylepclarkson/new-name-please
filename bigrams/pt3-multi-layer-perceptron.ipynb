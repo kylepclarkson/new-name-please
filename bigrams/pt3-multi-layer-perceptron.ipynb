{
 "cells": [
  {
   "cell_type": "markdown",
   "id": "6b8aacf6-b04b-4fbd-be15-d019a744898d",
   "metadata": {},
   "source": [
    "## Implementing a Multi-layer Perceptron (MLP)\n",
    "\n",
    "In the previous notebooks we introduced the bigram model which, for a bigram `XY`, gives the probability for each character `Y` given `X` precedes it. \n",
    "We took two approaches to learn these probabilities using a dataset of English names:\n",
    "1. Count the occurrence of all possible bigrams within the dataset, then normalize these counts into a probability distribution.\n",
    "2. Phrase the question as a supervised learning problem:\n",
    "- For each bigram `XY` in our dataset create an input/output pair `(x,y)` to learn predict character `y` given `x`.\n",
    "- Define a matrix of model parameters (weights.) Embed our inputs using a one-hot vector, multiply this vector by our weights, then apply the softmax function to the products to generate a probability distribution.\n",
    "- Use the negative log-likelihood (NLL) function to define the loss between what character our model predicts and what character was actually observed.\n",
    "- Use backpropagation to update our weights such that we minimize our lost.\n",
    "- Iteratively repeat apply other bigrams to our model to update it.\n",
    "\n",
    "We found that the model we learned was really learning the model resulting from our occurrence counts. \n",
    "However that there were drawbacks with the bigram model: \n",
    "1. When generating names using our model, the names weren't the best (i.e. not all seemed like real names.) One approach we proposed was to use a larger *context window* like a 3-gram, 4-gram, or so on.\n",
    "2. As we generalize to an n-gram the size of the matrix we would need to track our occurrence counts would be of size $|A|^n$ where $|A|$ is the size of our alphabet. These parameters grow exponentially with the size of our context window.\n",
    "\n",
    "These two points lead to what is covered in this notebook: implementing a multi-layer perceptron to learn probabilities associated with a larger context window than one.\n",
    "\n",
    "To begin, let's run some code we covered last time to load the dataset and build a vocabulary of characters."
   ]
  },
  {
   "cell_type": "code",
   "execution_count": 1,
   "id": "d3a2ad07-6877-4a80-91c0-ee4bdab1c989",
   "metadata": {},
   "outputs": [],
   "source": [
    "# import packages\n",
    "import torch\n",
    "import torch.nn.functional as F\n",
    "import matplotlib.pyplot as plt \n",
    "%matplotlib inline\n",
    "# read datasets\n",
    "fp = \"../.data/nlp/\"\n",
    "data = open(f'{fp}training_corpus.txt', 'r').read().splitlines()\n",
    "\n",
    "# string of all 26 characters sorted a to z. Works as all characters appear in training set.\n",
    "chars = sorted(list(set(''.join(data))))\n",
    "# mapping of characters to index.\n",
    "idx_to_char = {}\n",
    "char_to_idx = {}\n",
    "char_to_idx['.'] = 0\n",
    "for i,c in enumerate(chars):\n",
    "    char_to_idx[c] = i+1\n",
    "# create reverse mapping for use when plotting. \n",
    "idx_to_char = {i:c for c,i in char_to_idx.items()}"
   ]
  },
  {
   "cell_type": "markdown",
   "id": "61c74124-47a5-45d8-aaee-951c9fe69c76",
   "metadata": {},
   "source": [
    "Let's build our supervised dataset using a specific `context_window` size. \n",
    "Suppose we use a window size of 3. \n",
    "For each word in our dataset, we can generate a pair on input/output data for each character (plus one - the ending character.)\n",
    "Consider the name \"iroh\". We have the following (x,y) pairs:\n",
    "- ('...', 'i')\n",
    "- ('..i', 'r')\n",
    "- ('.ir', 'o')\n",
    "- ('iro', 'h')\n",
    "- ('roh', '.')\n",
    "  \n",
    "Similar to the previous notebook we don't use the characters within the pairs. \n",
    "Instead we store the indices:\n",
    "- ([0,0,0], 9)\n",
    "- ([0,0,9], 18)\n",
    "- ([0,9,18], 15)\n",
    "- ([9,18,15], 8)\n",
    "- ([18,15,8], 0)\n"
   ]
  },
  {
   "cell_type": "code",
   "execution_count": 2,
   "id": "1d5ed265-b7b9-4b34-8e6b-6cf37d1b9bad",
   "metadata": {},
   "outputs": [],
   "source": [
    "context_window = 3\n",
    "def build_dataset(dataset):\n",
    "    X, Y = [], []\n",
    "    for w in dataset:\n",
    "        # start with the first context window. All values will be 0 - the index for '.'\n",
    "        context = [0] * context_window\n",
    "        # print(\"word:\", w)\n",
    "        for ch in w + \".\":\n",
    "            idx = char_to_idx[ch]\n",
    "            # X is a list of lists (of indices)\n",
    "            X.append(context)\n",
    "            # Y is a list of indices\n",
    "            Y.append(idx)\n",
    "            # print(''.join(idx_to_char[i] for i in context), '-->', idx_to_char[idx])\n",
    "            context = context[1:] + [idx]\n",
    "    # convert to tensors\n",
    "    X = torch.tensor(X)\n",
    "    Y = torch.tensor(Y)\n",
    "    return X,Y"
   ]
  },
  {
   "cell_type": "markdown",
   "id": "6aa741cc-56b7-4ba5-b2cb-4ec8740380b3",
   "metadata": {},
   "source": [
    "### Train, test, and validation sets \n",
    "\n",
    "While training neural nets a concern is over fitting to the training data set.\n",
    "This occurs when we update our model parameters such that it starts to *memorize* the training data instead of learning the true underlying distribution. \n",
    "We can monitor if our model starts to over fit by making use of a test set while training. \n",
    "\n",
    "We partition our available data into 3 sets:\n",
    "1. training set: used to update our model's parameters during forward/backward passes.\n",
    "2. test set: used every X training iterations to compute our loss.\n",
    "3. validation set: used after training to see how our model fares on new, unseen data.\n",
    "\n",
    "During training, if we observe an increase in the test set's loss while our training set's loss decreases, this is a sign of over fitting. "
   ]
  },
  {
   "cell_type": "code",
   "execution_count": 3,
   "id": "733502c1-5669-4097-ac2c-617c4222b1af",
   "metadata": {},
   "outputs": [],
   "source": [
    "# shuffle the data set \n",
    "import random\n",
    "random.seed(31)\n",
    "random.shuffle(data)\n",
    "# partition training set into training and test sets.\n",
    "# use 90% / 10% split\n",
    "X_train, Y_train = build_dataset(data[:int(0.9*len(data))])\n",
    "X_test, Y_test = build_dataset(data[int(0.9*len(data)):])\n"
   ]
  },
  {
   "cell_type": "markdown",
   "id": "6aceba17-59f6-4b95-b63c-23e60f146211",
   "metadata": {},
   "source": [
    "### Defining the MLP\n",
    "\n",
    "We now define our MLP architecture. \n",
    "This follows from the architecture proposed in the paper [A Neural Probabilistic Language Model - Bengio et. al 2003](https://www.jmlr.org/papers/volume3/bengio03a/bengio03a.pdf).\n",
    "\n",
    "- In our first layer we have 27 inputs - one for each character. Instead of using a one-hot encoding as we did previously, we use \n",
    "-  We label this embedding as $C$ of size $R^{28 \\times 10}$. Note this is equivalent to using our one-hot encoding previously.\n",
    "- In our second layer we use both a weight matrix $W1$ and bias vector $b1$ of size $R^{10 \\times 200}$ and $R^{200}$ respectively. Using the output of our first layer, we multiply it by $W1$ and add $b1$ then apply this result to a non-linear function $tanh$ which is fed into the next layer.\n",
    "- For our third and final layer, we use both a weight matrix $W2$ and $b2$ in a similar fashion as before on the output from the second layer to generate our logits which we can use in our softmax to produce probabilities.\n",
    "\n",
    "Below we randomly initialize the parameters.\n"
   ]
  },
  {
   "cell_type": "code",
   "execution_count": 4,
   "id": "d33eabf6-0384-4d57-97fe-b376a5957ecd",
   "metadata": {},
   "outputs": [
    {
     "name": "stdout",
     "output_type": "stream",
     "text": [
      "Num of params:  6097\n"
     ]
    }
   ],
   "source": [
    "g = torch.Generator().manual_seed(892347120)\n",
    "\n",
    "C = torch.randn((27,10), generator=g)\n",
    "W1 = torch.randn((30, 100), generator=g)\n",
    "b1 = torch.randn(100, generator=g)\n",
    "W2 = torch.randn((100,27), generator=g)\n",
    "b2 = torch.randn(27, generator=g)\n",
    "params = [C, W1, b1, W2, b2]\n",
    "print(\"Num of params: \", sum([p.nelement() for p in params]))"
   ]
  },
  {
   "cell_type": "code",
   "execution_count": 5,
   "id": "ee95a5f9-dfe8-4de0-b5b6-228003b2d0b9",
   "metadata": {},
   "outputs": [],
   "source": [
    "for p in params:\n",
    "  p.requires_grad = True"
   ]
  },
  {
   "cell_type": "code",
   "execution_count": 6,
   "id": "93efe9af-d074-49ad-849d-39d31cd24ccb",
   "metadata": {},
   "outputs": [
    {
     "name": "stdout",
     "output_type": "stream",
     "text": [
      "1000: training loss: 4.748668670654297 test loss: 4.318130016326904\n",
      "2000: training loss: 3.1869943141937256 test loss: 3.388385534286499\n",
      "3000: training loss: 2.6679892539978027 test loss: 2.9342215061187744\n",
      "4000: training loss: 2.4021520614624023 test loss: 2.768754005432129\n",
      "5000: training loss: 3.3020670413970947 test loss: 2.6243107318878174\n",
      "6000: training loss: 2.6068615913391113 test loss: 2.5671379566192627\n",
      "7000: training loss: 2.6879258155822754 test loss: 2.530409097671509\n",
      "8000: training loss: 2.4162323474884033 test loss: 2.5195417404174805\n",
      "9000: training loss: 2.475687265396118 test loss: 2.496870279312134\n",
      "10000: training loss: 2.8194658756256104 test loss: 2.4726407527923584\n",
      "11000: training loss: 2.3639302253723145 test loss: 2.41667103767395\n",
      "12000: training loss: 2.4001500606536865 test loss: 2.4051053524017334\n",
      "13000: training loss: 2.811002016067505 test loss: 2.40104341506958\n",
      "14000: training loss: 2.359405755996704 test loss: 2.3976593017578125\n",
      "15000: training loss: 2.5949254035949707 test loss: 2.396348476409912\n",
      "16000: training loss: 2.201274871826172 test loss: 2.394684314727783\n",
      "17000: training loss: 2.322425365447998 test loss: 2.3932130336761475\n",
      "18000: training loss: 2.273715019226074 test loss: 2.3917911052703857\n",
      "19000: training loss: 2.6266961097717285 test loss: 2.390756607055664\n",
      "20000: training loss: 2.0664947032928467 test loss: 2.390125274658203\n",
      "21000: training loss: 2.6904456615448 test loss: 2.389040946960449\n",
      "22000: training loss: 2.693721294403076 test loss: 2.3886237144470215\n",
      "23000: training loss: 2.2916159629821777 test loss: 2.387868881225586\n",
      "24000: training loss: 2.339700698852539 test loss: 2.387040615081787\n",
      "25000: training loss: 2.1520650386810303 test loss: 2.3864099979400635\n",
      "26000: training loss: 2.524303913116455 test loss: 2.3858487606048584\n",
      "27000: training loss: 2.4929921627044678 test loss: 2.3853211402893066\n",
      "28000: training loss: 2.27229905128479 test loss: 2.385216474533081\n",
      "29000: training loss: 2.1989471912384033 test loss: 2.3846988677978516\n",
      "30000: training loss: 2.4089064598083496 test loss: 2.3844127655029297\n",
      "31000: training loss: 2.5677340030670166 test loss: 2.3834218978881836\n",
      "32000: training loss: 1.9853421449661255 test loss: 2.3828296661376953\n",
      "33000: training loss: 2.3939380645751953 test loss: 2.382805585861206\n",
      "34000: training loss: 2.410317897796631 test loss: 2.3822808265686035\n",
      "35000: training loss: 2.6676788330078125 test loss: 2.3817102909088135\n",
      "36000: training loss: 2.5988001823425293 test loss: 2.381491184234619\n",
      "37000: training loss: 2.109088659286499 test loss: 2.380692958831787\n",
      "38000: training loss: 2.2798376083374023 test loss: 2.3804574012756348\n",
      "39000: training loss: 2.2928943634033203 test loss: 2.3803329467773438\n",
      "40000: training loss: 2.7339112758636475 test loss: 2.379418134689331\n",
      "41000: training loss: 2.1459619998931885 test loss: 2.379488945007324\n",
      "42000: training loss: 2.546661853790283 test loss: 2.3782496452331543\n",
      "43000: training loss: 2.968508243560791 test loss: 2.3790602684020996\n",
      "44000: training loss: 2.8820433616638184 test loss: 2.3782060146331787\n",
      "45000: training loss: 2.292271852493286 test loss: 2.3772644996643066\n",
      "46000: training loss: 2.2313616275787354 test loss: 2.3770434856414795\n",
      "47000: training loss: 2.496187925338745 test loss: 2.3772881031036377\n",
      "48000: training loss: 2.2638325691223145 test loss: 2.3775172233581543\n",
      "49000: training loss: 2.6816933155059814 test loss: 2.37585711479187\n",
      "50000: training loss: 2.3079659938812256 test loss: 2.3757545948028564\n"
     ]
    }
   ],
   "source": [
    "# track loss at each iteration\n",
    "train_losses = []\n",
    "test_losses = []\n",
    "train_indices = []\n",
    "test_indices = []\n",
    "for i in range (50_000):\n",
    "    # generate minibatch from training data\n",
    "    minibatch_size = 32\n",
    "    idxs = torch.randint(0, X_train.shape[0], (minibatch_size,))\n",
    "    # Forward pass\n",
    "    embed = C[X_train[idxs]]\n",
    "    o1 = torch.tanh(embed.view(-1, 30) @ W1 + b1)\n",
    "    logits = o1 @ W2 + b2\n",
    "    loss = F.cross_entropy(logits, Y_train[idxs])\n",
    "    \n",
    "    # zero gradients (set to None)\n",
    "    for p in params:\n",
    "        p.grad = None\n",
    "        \n",
    "    # Backwards pass\n",
    "    loss.backward()\n",
    "    lr = 0.05 if i < 10_000 else 0.001\n",
    "    for p in params:\n",
    "        p.data += -lr * p.grad\n",
    "\n",
    "    if (i+1) % 1000 == 0:\n",
    "        # Compute test set loss\n",
    "        with torch.no_grad():\n",
    "            test_embed = C[X_test]\n",
    "            test_o1 = torch.tanh(test_embed.view(-1, 30) @ W1 + b1)\n",
    "            test_logits = test_o1 @ W2 + b2\n",
    "            test_loss = F.cross_entropy(test_logits, Y_test)\n",
    "            print (f'{i+1}: training loss: {loss} test loss: {test_loss}')\n",
    "            test_losses.append(test_loss.item())\n",
    "            test_indices.append(i)\n",
    "    # track stats\n",
    "    train_indices.append(i)\n",
    "    train_losses.append(loss.item())\n",
    "    "
   ]
  },
  {
   "cell_type": "code",
   "execution_count": 7,
   "id": "bddbb350-2573-4899-8b82-887e9157a88d",
   "metadata": {},
   "outputs": [
    {
     "data": {
      "image/png": "[encoded data removed]",
      "text/plain": [
       "<Figure size 640x480 with 1 Axes>"
      ]
     },
     "metadata": {},
     "output_type": "display_data"
    }
   ],
   "source": [
    "# plot loss vs. iterations\n",
    "plt.plot(train_indices, train_losses, label=\"Train loss\")\n",
    "plt.plot(test_indices, test_losses, label=\"Test loss\")\n",
    "plt.legend()\n",
    "plt.show()"
   ]
  },
  {
   "cell_type": "markdown",
   "id": "08003ce1-2bab-4caf-ace0-7908b225f2d1",
   "metadata": {},
   "source": [
    "We plot our train and test losses vs. the number of training iterations. \n",
    "We see that both our training and test losses decrease (as opposed to training decreasing but test loss increasing - a sign of overfitting to our training data.)\n",
    "\n",
    "Let's now see what kind of names our model generates!"
   ]
  },
  {
   "cell_type": "code",
   "execution_count": 17,
   "id": "41f3e635-cf0a-429c-b779-f2dd0a66bfb6",
   "metadata": {},
   "outputs": [
    {
     "name": "stdout",
     "output_type": "stream",
     "text": [
      "Name: 'libiialind.'. Name is in training set? False\n",
      "Name: 'reeco.'. Name is in training set? False\n",
      "Name: 'amir.'. Name is in training set? False\n",
      "Name: 'rophen.'. Name is in training set? False\n",
      "Name: 'many.'. Name is in training set? False\n",
      "Name: 'yuzann.'. Name is in training set? False\n",
      "Name: 'tila.'. Name is in training set? False\n",
      "Name: 'sherte.'. Name is in training set? False\n",
      "Name: 'dandie.'. Name is in training set? False\n",
      "Name: 'nirec.'. Name is in training set? False\n",
      "Name: 'zlo.'. Name is in training set? False\n",
      "Name: 'mairqua.'. Name is in training set? False\n",
      "Name: 'metseryo.'. Name is in training set? False\n",
      "Name: 'nasvalphila.'. Name is in training set? False\n",
      "Name: 'cla.'. Name is in training set? False\n",
      "Name: 'tus.'. Name is in training set? False\n",
      "Name: 'shelmyndriseka.'. Name is in training set? False\n",
      "Name: 'yqucavonn.'. Name is in training set? False\n",
      "Name: 'iameshpi.'. Name is in training set? False\n",
      "Name: 'bet.'. Name is in training set? False\n"
     ]
    }
   ],
   "source": [
    "g = torch.Generator().manual_seed(892347120)\n",
    "\n",
    "# sample from the model\n",
    "for _ in range(20):\n",
    "    out = []\n",
    "    context = [0] * context_window\n",
    "    while True:\n",
    "        emb = C[torch.tensor([context])]\n",
    "        h = torch.tanh(emb.view(1, -1) @ W1 + b1)\n",
    "        logits = h @ W2 + b2\n",
    "        probs = F.softmax(logits, dim=1)\n",
    "        idx = torch.multinomial(probs, num_samples=1, generator=g).item()\n",
    "        context = context[1:] + [idx]\n",
    "        out.append(idx_to_char[idx])\n",
    "        if idx == 0:\n",
    "            break\n",
    "    name = ''.join(out)\n",
    "    print(f\"Name: '{name}'. Name is in training set? {name in data}\")"
   ]
  },
  {
   "cell_type": "markdown",
   "id": "29b672bc-01fe-4eee-9439-fb4a6501a7a1",
   "metadata": {},
   "source": [
    "We first notice all names generated by our model are not within our training dataset. \n",
    "This is good as otherwise our model may have over-fitted to our training data. \n",
    "Next the names generated above like \"reeco\", \"amir\", or \"tila\" do seem like plausible names. \n",
    "Further our model has generated actual words like \"many\" and \"bet\". \n",
    "Yet outputs like \"yqucavonn\" or \"yqucavonn\" seem less likely for names. "
   ]
  },
  {
   "cell_type": "code",
   "execution_count": null,
   "id": "bfc3931d-9578-4ff7-82e4-b68d6a160d30",
   "metadata": {},
   "outputs": [],
   "source": []
  }
 ],
 "metadata": {
  "kernelspec": {
   "display_name": "Python 3 (ipykernel)",
   "language": "python",
   "name": "python3"
  },
  "language_info": {
   "codemirror_mode": {
    "name": "ipython",
    "version": 3
   },
   "file_extension": ".py",
   "mimetype": "text/x-python",
   "name": "python",
   "nbconvert_exporter": "python",
   "pygments_lexer": "ipython3",
   "version": "3.10.11"
  }
 },
 "nbformat": 4,
 "nbformat_minor": 5
}
